{
 "cells": [
  {
   "cell_type": "code",
   "execution_count": null,
   "metadata": {},
   "outputs": [],
   "source": [
    "import pandas as pd\n",
    "\n",
    "transactions = {\"transaction_id\" : [1, 2, 3, 4, 5], \"product_id\" : [101, 102, 103, 104, 105], \"amount\" : [3, 5, 8, 3, 2]}\n",
    "\n",
    "products = {\"product_id\" : [101, 102, 103, 104, 105], \"price\" : [20.00, 21.00, 15.00, 16.00, 52.00]}\n",
    "\n",
    "df_transactions = pd.DataFrame(transactions)\n",
    "\n",
    "df_products = pd.DataFrame(products)"
   ]
  },
  {
   "cell_type": "code",
   "execution_count": null,
   "metadata": {},
   "outputs": [],
   "source": [
    "#def transactions_over_100(df_transactions: pd.DataFrame, df_products: pd.DataFrame):\n",
    "df = df.merge(df_transactions,df_products,how='inner',on=['product_id'])\n",
    "df_products"
   ]
  }
 ],
 "metadata": {
  "language_info": {
   "name": "python"
  }
 },
 "nbformat": 4,
 "nbformat_minor": 2
}
