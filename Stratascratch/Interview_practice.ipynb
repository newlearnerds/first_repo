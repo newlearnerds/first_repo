{
 "cells": [
  {
   "cell_type": "markdown",
   "id": "726c1d23-28de-4ba7-90e4-8fd8a0d6d2cb",
   "metadata": {},
   "source": [
    "####   Zynga Data Analyst Interview"
   ]
  },
  {
   "cell_type": "code",
   "execution_count": 2,
   "id": "8a358904-dc5d-4fbf-b19e-740d8b8c2011",
   "metadata": {},
   "outputs": [],
   "source": [
    "l =[{'k1':[1,2,3,4]},{'k2':[2,3,5]}]"
   ]
  },
  {
   "cell_type": "code",
   "execution_count": 4,
   "id": "e85b268c-d05b-4dc8-97b1-351454d0ae69",
   "metadata": {},
   "outputs": [
    {
     "name": "stdout",
     "output_type": "stream",
     "text": [
      "{'k1': [1, 2, 3, 4]}\n",
      "<class 'dict'>\n"
     ]
    }
   ],
   "source": [
    "print(l[0])\n",
    "print(type(l[0]))"
   ]
  },
  {
   "cell_type": "code",
   "execution_count": 10,
   "id": "cf625459-a979-47be-bedb-abb55d492f3e",
   "metadata": {},
   "outputs": [
    {
     "name": "stdout",
     "output_type": "stream",
     "text": [
      "<class 'dict_values'>\n"
     ]
    }
   ],
   "source": [
    "print(type(l[0].values()))"
   ]
  },
  {
   "cell_type": "code",
   "execution_count": 16,
   "id": "97172c2e-9df4-4e6f-b608-f82191add711",
   "metadata": {},
   "outputs": [
    {
     "name": "stdout",
     "output_type": "stream",
     "text": [
      "[1, 2, 3, 4]\n",
      "[2, 3, 5]\n"
     ]
    }
   ],
   "source": [
    "print(list(l[0].values())[0])\n",
    "print(list(l[1].values())[0])"
   ]
  },
  {
   "cell_type": "code",
   "execution_count": 24,
   "id": "a03c7db9-444a-4b18-af81-7346eb2ab596",
   "metadata": {},
   "outputs": [],
   "source": [
    "def std(arr):\n",
    "    mu = mean(arr)\n",
    "    n = len(arr)\n",
    "    ss = 0\n",
    "    for ele in arr:\n",
    "        ss = ss+ ele**2\n",
    "    p = ss-(n)*(mu**2)\n",
    "    var = p/(n-1)\n",
    "    stdev = var**0.5\n",
    "    return stdev"
   ]
  },
  {
   "cell_type": "markdown",
   "id": "0118a351-4d12-4adc-8ead-2fa9a287ecc7",
   "metadata": {},
   "source": [
    "####  Develop a function compute_deviation to calculate the standard deviation for lists in a dictionary.\n",
    "#### Write a function compute_deviation that takes a list of dictionaries with a key and list of integers and\n",
    "#### returns a dictionary with the standard deviation of each list. Do not use NumPy built-in functions."
   ]
  },
  {
   "cell_type": "code",
   "execution_count": 62,
   "id": "a357aec5-0efa-4b23-a6b5-ee3fce429f17",
   "metadata": {},
   "outputs": [],
   "source": [
    "def list_dict(ld):\n",
    "    k = []\n",
    "    std = []\n",
    "    for i in range(len(ld)):\n",
    "        k.append(list(ld[i].keys())[0])\n",
    "        nums = list(ld[i].values())[0]\n",
    "        #print(nums)\n",
    "        mu = sum(nums)/len(nums)\n",
    "        n = len(nums)\n",
    "        ss = 0\n",
    "        for ele in nums:\n",
    "            ss = ss+ ele**2\n",
    "            p = ss-(n)*(mu**2)\n",
    "            var = p/(n-1)\n",
    "            stdev = var**0.5\n",
    "\n",
    "        std.append(stdev)\n",
    "    print(std,k)\n",
    "    new_d ={}\n",
    "    for i in range(len(k)):\n",
    "        new_d[k[i]] = std[i]\n",
    "    return new_d        \n",
    "    \n"
   ]
  },
  {
   "cell_type": "code",
   "execution_count": 61,
   "id": "9ec626b6-e8c0-491f-93be-36c86bf093db",
   "metadata": {},
   "outputs": [
    {
     "name": "stdout",
     "output_type": "stream",
     "text": [
      "[1, 2, 3, 4]\n",
      "[2, 3, 5]\n",
      "[1.2909944487358056, 1.5275252316519463] ['k1', 'k2']\n"
     ]
    },
    {
     "data": {
      "text/plain": [
       "{'k1': 1.2909944487358056, 'k2': 1.5275252316519463}"
      ]
     },
     "execution_count": 61,
     "metadata": {},
     "output_type": "execute_result"
    }
   ],
   "source": [
    "ld =[{'k1':[1,2,3,4]},{'k2':[2,3,5]}]\n",
    "list_dict(ld)"
   ]
  },
  {
   "cell_type": "markdown",
   "id": "225ba0d4-9997-48fc-9af5-393eed97a37e",
   "metadata": {},
   "source": [
    "#### Input Changes its form"
   ]
  },
  {
   "cell_type": "code",
   "execution_count": 64,
   "id": "8b8916bb-ee30-498c-981c-41cb57bd4feb",
   "metadata": {},
   "outputs": [],
   "source": [
    "\"\"\" \n",
    "input = [\n",
    "    {\n",
    "        'key': 'list1',\n",
    "        'values': [4,5,2,3,4,5,2,3],\n",
    "    },\n",
    "    {\n",
    "        'key': 'list2',\n",
    "        'values': [1,1,34,12,40,3,9,7],\n",
    "    }\n",
    "] \"\"\"\n",
    "\n",
    "\n",
    "def compute_deviation(list_numbers):\n",
    "    dt = {}\n",
    "    for d in list_numbers:\n",
    "        a = list(d.values())\n",
    "        sqsum = 0 \n",
    "        m = sum(a[1])/len(a[1])\n",
    "        for x in a[1]:\n",
    "            sqsum = sqsum+(x**2)\n",
    "        std = ((sqsum/len(a[1])) - (m**2))**0.5  \n",
    "        dt[a[0]] = std\n",
    "    return(dt)    "
   ]
  },
  {
   "cell_type": "code",
   "execution_count": 71,
   "id": "f755f169-3ad6-44f6-b8d1-6e946b92d7ed",
   "metadata": {},
   "outputs": [
    {
     "data": {
      "text/plain": [
       "{'list1': 1.4142135623730951,\n",
       " 'list2': 0.8164965809277257,\n",
       " 'list3': 3.5619517121937516}"
      ]
     },
     "execution_count": 71,
     "metadata": {},
     "output_type": "execute_result"
    }
   ],
   "source": [
    "lnums = [  {  'key': 'list1',  'values': [1,2,3,4,5], },\n",
    "           {  'key': 'list2',  'values': [2,3,4],  },\n",
    "           {  'key': 'list3',  'values': [1,5,9,12],  }\n",
    "         ] \n",
    "\n",
    "compute_deviation(lnums)"
   ]
  },
  {
   "cell_type": "code",
   "execution_count": null,
   "id": "927647ec-5e53-47d9-a498-cb896df9705e",
   "metadata": {},
   "outputs": [],
   "source": []
  }
 ],
 "metadata": {
  "kernelspec": {
   "display_name": "Python 3 (ipykernel)",
   "language": "python",
   "name": "python3"
  },
  "language_info": {
   "codemirror_mode": {
    "name": "ipython",
    "version": 3
   },
   "file_extension": ".py",
   "mimetype": "text/x-python",
   "name": "python",
   "nbconvert_exporter": "python",
   "pygments_lexer": "ipython3",
   "version": "3.11.10"
  }
 },
 "nbformat": 4,
 "nbformat_minor": 5
}
